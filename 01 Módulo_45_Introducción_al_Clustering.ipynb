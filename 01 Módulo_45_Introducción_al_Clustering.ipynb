{
 "cells": [
  {
   "cell_type": "markdown",
   "id": "c26cf9cb",
   "metadata": {},
   "source": [
    "# **Módulo 45 - Introducción al Clustering**\n",
    "\n",
    "En este módulo, exploraremos el Clustering, una técnica de aprendizaje no supervisada en Machine Learning. Nos enfocaremos en el algoritmo K-means  y aprenderemos a agrupar datos complejos para descubrir patrones ocultos sin intervención humana directa. A continuación, se destacan los temas que abordaremos:\n",
    "\n",
    "- ## **Algoritmo K-means**\n",
    "\n",
    "Nos adentraremos en el funcionamiento del algoritmo k-means, que selecciona centros de datos aleatorios y ajusta estos centros iterativamente hasta estabilizar los grupos. Aprenderemos a utilizar gráficos de codo y el score de silueta para determinar el número óptimo de clusters.\n",
    "\n",
    "- ## **Preparación de Datos**\n",
    "\n",
    "Discutiremos la importancia de preparar adecuadamente los datos para el Clustering. Esto incluye la limpieza de la base de datos, la detección de multicolinealidad y la normalización de variables mediante Z-score para evitar el overfitting. \n",
    "\n",
    "- ## **Implementación Práctica**\n",
    "\n",
    "Utilizaremos Python y librerías como Pandas, NumPy, Seaborn, Matplotlib y Scikit-learn para implementar y evaluar modelos de Clustering. Realizaremos un análisis exploratorio de datos y visualizaremos los **clusters** utilizando scatterplot y dendogramas."
   ]
  },
  {
   "cell_type": "markdown",
   "id": "2e881eba",
   "metadata": {},
   "source": [
    "____\n",
    "\n",
    "# **Clustering**\n",
    "\n",
    "El clustering es una técnica que nos permite agrupar un conjunto de datos con muchas diferentes variables que lo perfilan de manera automática, sin una previa selección.\n",
    "\n",
    "Por ejemplo, a la música la puedo clasificar por género, por idioma, por tempo, lo que convertiría este ejercicio en un aprendizaje supervisado, una clasificación.\n",
    "\n",
    "En este caso, se habla de una técnica que permite automáticamente clasificar los registros de una base de datos sin una clasificación previa.\n",
    "\n",
    "La idea es justamente armas grupos similares, basados en todos sus atributos, en un índice de similaridad. Este índice es justamente lo que el clustering hace muy bien.\n",
    "\n",
    "## **Aplicaciones de Clustering**\n",
    "\n",
    "- Análisis de clientes.\n",
    "- Detección de anomalías.\n",
    "- Agrupamiento de resultados de búsqueda.\n",
    "- Agrupaciones de comportamiento.\n",
    "- Seguimiento de campañas de marketing.\n",
    "\n",
    "## **Algoritmo k-means**\n",
    "\n",
    "- Es el más utilizado para Clustering.\n",
    "- Basado en Centroides. Es eficiente, efectivo y simple.\n",
    "- Es sensible al punto de partida inicial.\n",
    "\n",
    "## **Funciona así**\n",
    "- El analista debe seleccionar el número de clusters.\n",
    "- En la iteración #1 se escogen 3 puntos random como los centroides del grupo.\n",
    "- Para cada punto de los datos, se asigna un centroide, según la distancia euclidiana.\n",
    "- Se re-calculan  los centroides ahora utilizando los clusters definidos.\n",
    "- Se repiten los pasos 3 y 4 hasta que los centroides convergen en sus coordenadas (casi no se mueven).\n"
   ]
  },
  {
   "cell_type": "code",
   "execution_count": null,
   "id": "eb65aaa9",
   "metadata": {},
   "outputs": [],
   "source": []
  }
 ],
 "metadata": {
  "language_info": {
   "name": "python"
  }
 },
 "nbformat": 4,
 "nbformat_minor": 5
}
